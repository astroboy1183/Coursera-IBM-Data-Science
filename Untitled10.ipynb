{
  "nbformat": 4,
  "nbformat_minor": 0,
  "metadata": {
    "colab": {
      "provenance": []
    },
    "kernelspec": {
      "name": "python3",
      "display_name": "Python 3"
    },
    "language_info": {
      "name": "python"
    }
  },
  "cells": [
    {
      "cell_type": "markdown",
      "source": [
        "# Data Science Tools and Ecosystem"
      ],
      "metadata": {
        "id": "vZyybwqeHss3"
      }
    },
    {
      "cell_type": "markdown",
      "source": [
        "In this notebook, Data Science Tools and Ecosystem are summarized."
      ],
      "metadata": {
        "id": "8sdNEQr_HxoY"
      }
    },
    {
      "cell_type": "markdown",
      "source": [
        "**Objectives:**\n",
        "- Overview of data science tools used , eg: Jupyter Notebook, Rstudio, Anaconda\n",
        "- Languages used in data science - eg: Python, R, SQL\n",
        "- Libraries, APIs and Datasets used in data science - eg: Matplotlib, Numpy, Pandas, Scikit-Learn, Tensorflow, PyTorch\n",
        "- Version Control - eg: Git, Github, Bitbucket, Gitlab"
      ],
      "metadata": {
        "id": "Svbkbo6sHxyF"
      }
    },
    {
      "cell_type": "markdown",
      "source": [
        "Some of the popular languages that Data Scientists use are:\n",
        "1. Python\n",
        "2. R\n",
        "3. SQL\n",
        "4. Scala"
      ],
      "metadata": {
        "id": "qYyW9idlHx2h"
      }
    },
    {
      "cell_type": "markdown",
      "source": [
        "Some of the commonly used libraries used by Data Scientists include:\n",
        "1. Numpy\n",
        "2. Pandas\n",
        "3. Matplotlib\n",
        "4. Seaborn\n",
        "5. Scikit-Learn"
      ],
      "metadata": {
        "id": "hXG7vkEtHx_N"
      }
    },
    {
      "cell_type": "markdown",
      "source": [
        "|Data Science Tools|\n",
        "|------------------|\n",
        "|Tableau           |\n",
        "|Apache Spark      |\n",
        "|Hadoop            |\n",
        "|Scikit-Learn      |\n",
        "|PyTorch           |\n",
        "|SQL               |\n",
        "|Python            |"
      ],
      "metadata": {
        "id": "tVkVOAh8H-sZ"
      }
    },
    {
      "cell_type": "markdown",
      "source": [
        "### Below are a few examples of evaluating arithmetic expressions in Python :\n",
        "\n",
        "$(a+b)^2 = a^2+b^2+2*a*b$\n",
        "\n",
        "$a/b + b/c = (a*c+b^2)/(b*c)$\n",
        "\n",
        "$(a+b+c)^2 = (a^2)+(b^2)+(c^2)+(2*a*b)+(2*b*c)+(2*a*c)$"
      ],
      "metadata": {
        "id": "4zzOC86wIC8b"
      }
    },
    {
      "cell_type": "code",
      "source": [
        "#This is a simple arithmwtic expression to multiply and add the numbers.\n",
        "4*8+3"
      ],
      "metadata": {
        "colab": {
          "base_uri": "https://localhost:8080/"
        },
        "id": "eYB1fvFsHdXl",
        "outputId": "5064fd40-ce9b-494e-df6f-02d19772ccbe"
      },
      "execution_count": 8,
      "outputs": [
        {
          "output_type": "execute_result",
          "data": {
            "text/plain": [
              "35"
            ]
          },
          "metadata": {},
          "execution_count": 8
        }
      ]
    },
    {
      "cell_type": "code",
      "source": [
        "#Convert 100 minutes into hours by dividing by 60.\n",
        "100/60"
      ],
      "metadata": {
        "colab": {
          "base_uri": "https://localhost:8080/"
        },
        "id": "B768bobTHg3g",
        "outputId": "8687870e-30b3-4415-b99a-87e1b2d55a79"
      },
      "execution_count": 9,
      "outputs": [
        {
          "output_type": "execute_result",
          "data": {
            "text/plain": [
              "1.6666666666666667"
            ]
          },
          "metadata": {},
          "execution_count": 9
        }
      ]
    },
    {
      "cell_type": "markdown",
      "source": [
        "## Author\n",
        "Jayanth Appalla"
      ],
      "metadata": {
        "id": "M3lrYcWdIJwV"
      }
    },
    {
      "cell_type": "code",
      "source": [],
      "metadata": {
        "id": "Y6ieOGh8IKhY"
      },
      "execution_count": null,
      "outputs": []
    }
  ]
}